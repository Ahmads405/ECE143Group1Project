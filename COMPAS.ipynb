{
 "cells": [
  {
   "cell_type": "code",
   "execution_count": 160,
   "id": "76984610",
   "metadata": {
    "scrolled": true
   },
   "outputs": [],
   "source": [
    "import pandas as pd\n",
    "import matplotlib.pyplot as plt\n",
    "import seaborn as sns\n",
    "from scipy import stats\n",
    "df = pd.read_csv(\"compas-scores-two-years.csv\")"
   ]
  },
  {
   "cell_type": "markdown",
   "id": "1f3b7a7f",
   "metadata": {},
   "source": [
    "In this dataset, we have a decile score(0-10) which is predicted by the system showing how they think if a subject is \n",
    "likely to redo crime. And we also have the two_year_recid value(0,1) which is the truth of there behavior. s"
   ]
  },
  {
   "cell_type": "code",
   "execution_count": 161,
   "id": "ad90cff0",
   "metadata": {
    "scrolled": true
   },
   "outputs": [
    {
     "data": {
      "text/plain": [
       "1     1440\n",
       "2      941\n",
       "4      769\n",
       "3      747\n",
       "5      681\n",
       "6      641\n",
       "7      592\n",
       "8      512\n",
       "9      508\n",
       "10     383\n",
       "Name: decile_score, dtype: int64"
      ]
     },
     "execution_count": 161,
     "metadata": {},
     "output_type": "execute_result"
    }
   ],
   "source": [
    "df['decile_score'].value_counts()"
   ]
  },
  {
   "cell_type": "code",
   "execution_count": 162,
   "id": "5113b0a2",
   "metadata": {},
   "outputs": [
    {
     "data": {
      "text/plain": [
       "1     1911\n",
       "2     1073\n",
       "3      979\n",
       "4      798\n",
       "5      689\n",
       "6      598\n",
       "7      452\n",
       "8      300\n",
       "9      290\n",
       "10     124\n",
       "Name: v_decile_score, dtype: int64"
      ]
     },
     "execution_count": 162,
     "metadata": {},
     "output_type": "execute_result"
    }
   ],
   "source": [
    "df['v_decile_score'].value_counts()"
   ]
  },
  {
   "cell_type": "code",
   "execution_count": 163,
   "id": "0ce18936",
   "metadata": {},
   "outputs": [
    {
     "data": {
      "text/plain": [
       "['id',\n",
       " 'name',\n",
       " 'first',\n",
       " 'last',\n",
       " 'compas_screening_date',\n",
       " 'sex',\n",
       " 'dob',\n",
       " 'age',\n",
       " 'age_cat',\n",
       " 'race',\n",
       " 'juv_fel_count',\n",
       " 'decile_score',\n",
       " 'juv_misd_count',\n",
       " 'juv_other_count',\n",
       " 'priors_count',\n",
       " 'days_b_screening_arrest',\n",
       " 'c_jail_in',\n",
       " 'c_jail_out',\n",
       " 'c_case_number',\n",
       " 'c_offense_date',\n",
       " 'c_arrest_date',\n",
       " 'c_days_from_compas',\n",
       " 'c_charge_degree',\n",
       " 'c_charge_desc',\n",
       " 'is_recid',\n",
       " 'r_case_number',\n",
       " 'r_charge_degree',\n",
       " 'r_days_from_arrest',\n",
       " 'r_offense_date',\n",
       " 'r_charge_desc',\n",
       " 'r_jail_in',\n",
       " 'r_jail_out',\n",
       " 'violent_recid',\n",
       " 'is_violent_recid',\n",
       " 'vr_case_number',\n",
       " 'vr_charge_degree',\n",
       " 'vr_offense_date',\n",
       " 'vr_charge_desc',\n",
       " 'type_of_assessment',\n",
       " 'decile_score.1',\n",
       " 'score_text',\n",
       " 'screening_date',\n",
       " 'v_type_of_assessment',\n",
       " 'v_decile_score',\n",
       " 'v_score_text',\n",
       " 'v_screening_date',\n",
       " 'in_custody',\n",
       " 'out_custody',\n",
       " 'priors_count.1',\n",
       " 'start',\n",
       " 'end',\n",
       " 'event',\n",
       " 'two_year_recid']"
      ]
     },
     "execution_count": 163,
     "metadata": {},
     "output_type": "execute_result"
    }
   ],
   "source": [
    "list(df.columns)"
   ]
  },
  {
   "cell_type": "code",
   "execution_count": 164,
   "id": "388c7f99",
   "metadata": {},
   "outputs": [
    {
     "data": {
      "text/plain": [
       "25 - 45            4109\n",
       "Greater than 45    1576\n",
       "Less than 25       1529\n",
       "Name: age_cat, dtype: int64"
      ]
     },
     "execution_count": 164,
     "metadata": {},
     "output_type": "execute_result"
    }
   ],
   "source": [
    "df['age_cat'].value_counts()"
   ]
  },
  {
   "cell_type": "code",
   "execution_count": 165,
   "id": "b9d0be37",
   "metadata": {},
   "outputs": [
    {
     "data": {
      "text/plain": [
       "African-American    3696\n",
       "Caucasian           2454\n",
       "Hispanic             637\n",
       "Other                377\n",
       "Asian                 32\n",
       "Native American       18\n",
       "Name: race, dtype: int64"
      ]
     },
     "execution_count": 165,
     "metadata": {},
     "output_type": "execute_result"
    }
   ],
   "source": [
    "df['race'].value_counts()"
   ]
  },
  {
   "cell_type": "code",
   "execution_count": 166,
   "id": "88415330",
   "metadata": {},
   "outputs": [
    {
     "data": {
      "text/plain": [
       "African-American    51.23\n",
       "Caucasian           34.02\n",
       "Hispanic             8.83\n",
       "Other                5.23\n",
       "Asian                0.44\n",
       "Native American      0.25\n",
       "Name: race, dtype: float64"
      ]
     },
     "execution_count": 166,
     "metadata": {},
     "output_type": "execute_result"
    }
   ],
   "source": [
    "(((df['race'].value_counts() / len(df))\n",
    "  * 100)\n",
    " .round(2))"
   ]
  },
  {
   "cell_type": "code",
   "execution_count": 167,
   "id": "abdf4fb4",
   "metadata": {},
   "outputs": [
    {
     "data": {
      "text/plain": [
       "Low       3897\n",
       "Medium    1914\n",
       "High      1403\n",
       "Name: score_text, dtype: int64"
      ]
     },
     "execution_count": 167,
     "metadata": {},
     "output_type": "execute_result"
    }
   ],
   "source": [
    "df['score_text'].value_counts()"
   ]
  },
  {
   "cell_type": "code",
   "execution_count": 168,
   "id": "1a6931cf",
   "metadata": {},
   "outputs": [
    {
     "data": {
      "text/html": [
       "<div>\n",
       "<style scoped>\n",
       "    .dataframe tbody tr th:only-of-type {\n",
       "        vertical-align: middle;\n",
       "    }\n",
       "\n",
       "    .dataframe tbody tr th {\n",
       "        vertical-align: top;\n",
       "    }\n",
       "\n",
       "    .dataframe thead th {\n",
       "        text-align: right;\n",
       "    }\n",
       "</style>\n",
       "<table border=\"1\" class=\"dataframe\">\n",
       "  <thead>\n",
       "    <tr style=\"text-align: right;\">\n",
       "      <th>race</th>\n",
       "      <th>African-American</th>\n",
       "      <th>Asian</th>\n",
       "      <th>Caucasian</th>\n",
       "      <th>Hispanic</th>\n",
       "      <th>Native American</th>\n",
       "      <th>Other</th>\n",
       "    </tr>\n",
       "    <tr>\n",
       "      <th>sex</th>\n",
       "      <th></th>\n",
       "      <th></th>\n",
       "      <th></th>\n",
       "      <th></th>\n",
       "      <th></th>\n",
       "      <th></th>\n",
       "    </tr>\n",
       "  </thead>\n",
       "  <tbody>\n",
       "    <tr>\n",
       "      <th>Female</th>\n",
       "      <td>652</td>\n",
       "      <td>2</td>\n",
       "      <td>567</td>\n",
       "      <td>103</td>\n",
       "      <td>4</td>\n",
       "      <td>67</td>\n",
       "    </tr>\n",
       "    <tr>\n",
       "      <th>Male</th>\n",
       "      <td>3044</td>\n",
       "      <td>30</td>\n",
       "      <td>1887</td>\n",
       "      <td>534</td>\n",
       "      <td>14</td>\n",
       "      <td>310</td>\n",
       "    </tr>\n",
       "  </tbody>\n",
       "</table>\n",
       "</div>"
      ],
      "text/plain": [
       "race    African-American  Asian  Caucasian  Hispanic  Native American  Other\n",
       "sex                                                                         \n",
       "Female               652      2        567       103                4     67\n",
       "Male                3044     30       1887       534               14    310"
      ]
     },
     "execution_count": 168,
     "metadata": {},
     "output_type": "execute_result"
    }
   ],
   "source": [
    "pd.crosstab(df['sex'], df['race'])"
   ]
  },
  {
   "cell_type": "code",
   "execution_count": 169,
   "id": "8d0a5e44",
   "metadata": {},
   "outputs": [
    {
     "data": {
      "text/plain": [
       "Male      80.66\n",
       "Female    19.34\n",
       "Name: sex, dtype: float64"
      ]
     },
     "execution_count": 169,
     "metadata": {},
     "output_type": "execute_result"
    }
   ],
   "source": [
    "(((df['sex'].value_counts() / len(df))\n",
    "  * 100)\n",
    " .round(2))"
   ]
  },
  {
   "cell_type": "code",
   "execution_count": 170,
   "id": "92caa2b3",
   "metadata": {},
   "outputs": [
    {
     "data": {
      "text/plain": [
       "0    54.93\n",
       "1    45.07\n",
       "Name: two_year_recid, dtype: float64"
      ]
     },
     "execution_count": 170,
     "metadata": {},
     "output_type": "execute_result"
    }
   ],
   "source": [
    "(((df['two_year_recid'].value_counts() / len(df))\n",
    "  * 100)\n",
    " .round(2))"
   ]
  },
  {
   "cell_type": "code",
   "execution_count": 173,
   "id": "6106bdc3",
   "metadata": {},
   "outputs": [],
   "source": [
    "RACE_IN_FOCUS = ['African-American', 'Caucasian']\n",
    "df_race_focused = df[df['race'].isin(RACE_IN_FOCUS)]"
   ]
  },
  {
   "cell_type": "code",
   "execution_count": 174,
   "id": "34ad97b3",
   "metadata": {},
   "outputs": [
    {
     "data": {
      "text/plain": [
       "<seaborn.axisgrid.FacetGrid at 0x26265355fa0>"
      ]
     },
     "execution_count": 174,
     "metadata": {},
     "output_type": "execute_result"
    },
    {
     "data": {
      "image/png": "[encoded data removed]",
      "text/plain": [
       "<Figure size 1008x504 with 2 Axes>"
      ]
     },
     "metadata": {
      "needs_background": "light"
     },
     "output_type": "display_data"
    }
   ],
   "source": [
    "g = sns.FacetGrid(df_race_focused, col='race', height=7)#, aspect=4,)\n",
    "g.map(plt.hist, 'decile_score', rwidth=0.9)"
   ]
  },
  {
   "cell_type": "code",
   "execution_count": 175,
   "id": "4b6cf6c1",
   "metadata": {},
   "outputs": [
    {
     "data": {
      "text/html": [
       "<div>\n",
       "<style scoped>\n",
       "    .dataframe tbody tr th:only-of-type {\n",
       "        vertical-align: middle;\n",
       "    }\n",
       "\n",
       "    .dataframe tbody tr th {\n",
       "        vertical-align: top;\n",
       "    }\n",
       "\n",
       "    .dataframe thead th {\n",
       "        text-align: right;\n",
       "    }\n",
       "</style>\n",
       "<table border=\"1\" class=\"dataframe\">\n",
       "  <thead>\n",
       "    <tr style=\"text-align: right;\">\n",
       "      <th>race</th>\n",
       "      <th>African-American</th>\n",
       "      <th>Asian</th>\n",
       "      <th>Caucasian</th>\n",
       "      <th>Hispanic</th>\n",
       "      <th>Native American</th>\n",
       "      <th>Other</th>\n",
       "    </tr>\n",
       "    <tr>\n",
       "      <th>decile_score</th>\n",
       "      <th></th>\n",
       "      <th></th>\n",
       "      <th></th>\n",
       "      <th></th>\n",
       "      <th></th>\n",
       "      <th></th>\n",
       "    </tr>\n",
       "  </thead>\n",
       "  <tbody>\n",
       "    <tr>\n",
       "      <th>1</th>\n",
       "      <td>398</td>\n",
       "      <td>15</td>\n",
       "      <td>681</td>\n",
       "      <td>196</td>\n",
       "      <td>0</td>\n",
       "      <td>150</td>\n",
       "    </tr>\n",
       "    <tr>\n",
       "      <th>2</th>\n",
       "      <td>393</td>\n",
       "      <td>4</td>\n",
       "      <td>361</td>\n",
       "      <td>113</td>\n",
       "      <td>4</td>\n",
       "      <td>66</td>\n",
       "    </tr>\n",
       "    <tr>\n",
       "      <th>3</th>\n",
       "      <td>346</td>\n",
       "      <td>5</td>\n",
       "      <td>273</td>\n",
       "      <td>86</td>\n",
       "      <td>1</td>\n",
       "      <td>36</td>\n",
       "    </tr>\n",
       "    <tr>\n",
       "      <th>4</th>\n",
       "      <td>385</td>\n",
       "      <td>0</td>\n",
       "      <td>285</td>\n",
       "      <td>52</td>\n",
       "      <td>1</td>\n",
       "      <td>46</td>\n",
       "    </tr>\n",
       "    <tr>\n",
       "      <th>5</th>\n",
       "      <td>365</td>\n",
       "      <td>1</td>\n",
       "      <td>241</td>\n",
       "      <td>52</td>\n",
       "      <td>0</td>\n",
       "      <td>22</td>\n",
       "    </tr>\n",
       "    <tr>\n",
       "      <th>6</th>\n",
       "      <td>384</td>\n",
       "      <td>3</td>\n",
       "      <td>194</td>\n",
       "      <td>37</td>\n",
       "      <td>2</td>\n",
       "      <td>21</td>\n",
       "    </tr>\n",
       "    <tr>\n",
       "      <th>7</th>\n",
       "      <td>400</td>\n",
       "      <td>1</td>\n",
       "      <td>143</td>\n",
       "      <td>34</td>\n",
       "      <td>4</td>\n",
       "      <td>10</td>\n",
       "    </tr>\n",
       "    <tr>\n",
       "      <th>8</th>\n",
       "      <td>359</td>\n",
       "      <td>2</td>\n",
       "      <td>114</td>\n",
       "      <td>26</td>\n",
       "      <td>1</td>\n",
       "      <td>10</td>\n",
       "    </tr>\n",
       "    <tr>\n",
       "      <th>9</th>\n",
       "      <td>380</td>\n",
       "      <td>0</td>\n",
       "      <td>98</td>\n",
       "      <td>20</td>\n",
       "      <td>2</td>\n",
       "      <td>8</td>\n",
       "    </tr>\n",
       "    <tr>\n",
       "      <th>10</th>\n",
       "      <td>286</td>\n",
       "      <td>1</td>\n",
       "      <td>64</td>\n",
       "      <td>21</td>\n",
       "      <td>3</td>\n",
       "      <td>8</td>\n",
       "    </tr>\n",
       "  </tbody>\n",
       "</table>\n",
       "</div>"
      ],
      "text/plain": [
       "race          African-American  Asian  Caucasian  Hispanic  Native American  \\\n",
       "decile_score                                                                  \n",
       "1                          398     15        681       196                0   \n",
       "2                          393      4        361       113                4   \n",
       "3                          346      5        273        86                1   \n",
       "4                          385      0        285        52                1   \n",
       "5                          365      1        241        52                0   \n",
       "6                          384      3        194        37                2   \n",
       "7                          400      1        143        34                4   \n",
       "8                          359      2        114        26                1   \n",
       "9                          380      0         98        20                2   \n",
       "10                         286      1         64        21                3   \n",
       "\n",
       "race          Other  \n",
       "decile_score         \n",
       "1               150  \n",
       "2                66  \n",
       "3                36  \n",
       "4                46  \n",
       "5                22  \n",
       "6                21  \n",
       "7                10  \n",
       "8                10  \n",
       "9                 8  \n",
       "10                8  "
      ]
     },
     "execution_count": 175,
     "metadata": {},
     "output_type": "execute_result"
    }
   ],
   "source": [
    "pd.crosstab(df['decile_score'], df['race'])"
   ]
  },
  {
   "cell_type": "code",
   "execution_count": 176,
   "id": "6b0d0b00",
   "metadata": {},
   "outputs": [
    {
     "data": {
      "text/html": [
       "<div>\n",
       "<style scoped>\n",
       "    .dataframe tbody tr th:only-of-type {\n",
       "        vertical-align: middle;\n",
       "    }\n",
       "\n",
       "    .dataframe tbody tr th {\n",
       "        vertical-align: top;\n",
       "    }\n",
       "\n",
       "    .dataframe thead th {\n",
       "        text-align: right;\n",
       "    }\n",
       "</style>\n",
       "<table border=\"1\" class=\"dataframe\">\n",
       "  <thead>\n",
       "    <tr style=\"text-align: right;\">\n",
       "      <th>race</th>\n",
       "      <th>African-American</th>\n",
       "      <th>Asian</th>\n",
       "      <th>Caucasian</th>\n",
       "      <th>Hispanic</th>\n",
       "      <th>Native American</th>\n",
       "      <th>Other</th>\n",
       "    </tr>\n",
       "    <tr>\n",
       "      <th>two_year_recid</th>\n",
       "      <th></th>\n",
       "      <th></th>\n",
       "      <th></th>\n",
       "      <th></th>\n",
       "      <th></th>\n",
       "      <th></th>\n",
       "    </tr>\n",
       "  </thead>\n",
       "  <tbody>\n",
       "    <tr>\n",
       "      <th>0</th>\n",
       "      <td>0.452940</td>\n",
       "      <td>0.005804</td>\n",
       "      <td>0.375473</td>\n",
       "      <td>0.102195</td>\n",
       "      <td>0.002019</td>\n",
       "      <td>0.06157</td>\n",
       "    </tr>\n",
       "    <tr>\n",
       "      <th>1</th>\n",
       "      <td>0.584743</td>\n",
       "      <td>0.002768</td>\n",
       "      <td>0.297139</td>\n",
       "      <td>0.071363</td>\n",
       "      <td>0.003076</td>\n",
       "      <td>0.04091</td>\n",
       "    </tr>\n",
       "  </tbody>\n",
       "</table>\n",
       "</div>"
      ],
      "text/plain": [
       "race            African-American     Asian  Caucasian  Hispanic  \\\n",
       "two_year_recid                                                    \n",
       "0                       0.452940  0.005804   0.375473  0.102195   \n",
       "1                       0.584743  0.002768   0.297139  0.071363   \n",
       "\n",
       "race            Native American    Other  \n",
       "two_year_recid                            \n",
       "0                      0.002019  0.06157  \n",
       "1                      0.003076  0.04091  "
      ]
     },
     "execution_count": 176,
     "metadata": {},
     "output_type": "execute_result"
    }
   ],
   "source": [
    "pd.crosstab(df['two_year_recid'], df['race'], normalize='index')"
   ]
  },
  {
   "cell_type": "code",
   "execution_count": 177,
   "id": "116d57f6",
   "metadata": {},
   "outputs": [
    {
     "data": {
      "text/html": [
       "<div>\n",
       "<style scoped>\n",
       "    .dataframe tbody tr th:only-of-type {\n",
       "        vertical-align: middle;\n",
       "    }\n",
       "\n",
       "    .dataframe tbody tr th {\n",
       "        vertical-align: top;\n",
       "    }\n",
       "\n",
       "    .dataframe thead th {\n",
       "        text-align: right;\n",
       "    }\n",
       "</style>\n",
       "<table border=\"1\" class=\"dataframe\">\n",
       "  <thead>\n",
       "    <tr style=\"text-align: right;\">\n",
       "      <th>race</th>\n",
       "      <th>African-American</th>\n",
       "      <th>Caucasian</th>\n",
       "    </tr>\n",
       "    <tr>\n",
       "      <th>two_year_recid</th>\n",
       "      <th></th>\n",
       "      <th></th>\n",
       "    </tr>\n",
       "  </thead>\n",
       "  <tbody>\n",
       "    <tr>\n",
       "      <th>0</th>\n",
       "      <td>0.546756</td>\n",
       "      <td>0.453244</td>\n",
       "    </tr>\n",
       "    <tr>\n",
       "      <th>1</th>\n",
       "      <td>0.663062</td>\n",
       "      <td>0.336938</td>\n",
       "    </tr>\n",
       "  </tbody>\n",
       "</table>\n",
       "</div>"
      ],
      "text/plain": [
       "race            African-American  Caucasian\n",
       "two_year_recid                             \n",
       "0                       0.546756   0.453244\n",
       "1                       0.663062   0.336938"
      ]
     },
     "execution_count": 177,
     "metadata": {},
     "output_type": "execute_result"
    }
   ],
   "source": [
    "pd.crosstab(df_race_focused['two_year_recid'],\n",
    "            df_race_focused['race'],\n",
    "            normalize='index')"
   ]
  },
  {
   "cell_type": "code",
   "execution_count": 178,
   "id": "cd0a41bd",
   "metadata": {},
   "outputs": [],
   "source": [
    "recid_df = df.loc[df['two_year_recid']==1]\n",
    "recid_df_race_focused = recid_df[recid_df['race'].isin(RACE_IN_FOCUS)]"
   ]
  },
  {
   "cell_type": "code",
   "execution_count": 179,
   "id": "1885bbe2",
   "metadata": {},
   "outputs": [
    {
     "data": {
      "text/plain": [
       "<seaborn.axisgrid.FacetGrid at 0x26269c2b880>"
      ]
     },
     "execution_count": 179,
     "metadata": {},
     "output_type": "execute_result"
    },
    {
     "data": {
      "image/png": "[encoded data removed]",
      "text/plain": [
       "<Figure size 1008x504 with 2 Axes>"
      ]
     },
     "metadata": {
      "needs_background": "light"
     },
     "output_type": "display_data"
    }
   ],
   "source": [
    "g = sns.FacetGrid(recid_df_race_focused, col='race', height=7)#, aspect=4,)\n",
    "g.map(plt.hist, 'decile_score', rwidth=0.9)"
   ]
  },
  {
   "cell_type": "code",
   "execution_count": 180,
   "id": "7e8ff567",
   "metadata": {},
   "outputs": [],
   "source": [
    "recid_df = df.loc[df['two_year_recid']==1]"
   ]
  },
  {
   "cell_type": "code",
   "execution_count": 181,
   "id": "a16adb3f",
   "metadata": {},
   "outputs": [],
   "source": [
    "high_decile_recide = recid_df.loc[recid_df['decile_score'] > 4]"
   ]
  },
  {
   "cell_type": "code",
   "execution_count": 182,
   "id": "b2945f68",
   "metadata": {},
   "outputs": [],
   "source": [
    "focused_high_decile = high_decile_recide[high_decile_recide['race'].isin(RACE_IN_FOCUS)]"
   ]
  },
  {
   "cell_type": "code",
   "execution_count": 183,
   "id": "2a41cb2d",
   "metadata": {},
   "outputs": [
    {
     "data": {
      "text/plain": [
       "<seaborn.axisgrid.FacetGrid at 0x2626a6dc250>"
      ]
     },
     "execution_count": 183,
     "metadata": {},
     "output_type": "execute_result"
    },
    {
     "data": {
      "image/png": "[encoded data removed]",
      "text/plain": [
       "<Figure size 1008x504 with 2 Axes>"
      ]
     },
     "metadata": {
      "needs_background": "light"
     },
     "output_type": "display_data"
    }
   ],
   "source": [
    "g = sns.FacetGrid(focused_high_decile, col='race', height=7)\n",
    "g.map(plt.hist, 'decile_score', rwidth=0.9)"
   ]
  },
  {
   "cell_type": "code",
   "execution_count": 184,
   "id": "2617ea7a",
   "metadata": {},
   "outputs": [],
   "source": [
    "df = df.fillna(0)\n",
    "df = df.replace({'race' : { 'African-American' : 0, 'Asian' : 1, 'Caucasian' : 3 ,'Hispanic':4,'Native American':5,'Other':6}})\n",
    "df = df.replace({'sex' : { 'Male' : 1, 'Female' : 0}})"
   ]
  },
  {
   "cell_type": "code",
   "execution_count": 189,
   "id": "5cc5cb70",
   "metadata": {},
   "outputs": [
    {
     "name": "stderr",
     "output_type": "stream",
     "text": [
      "C:\\Users\\18589\\anaconda3\\lib\\site-packages\\scipy\\stats\\stats.py:4023: PearsonRConstantInputWarning: An input array is constant; the correlation coefficient is not defined.\n",
      "  warnings.warn(PearsonRConstantInputWarning())\n"
     ]
    },
    {
     "data": {
      "text/plain": [
       "two_year_recid             1.000\n",
       "is_recid                   0.941\n",
       "event                      0.786\n",
       "end                        0.771\n",
       "is_violent_recid           0.356\n",
       "decile_score               0.351\n",
       "decile_score.1             0.351\n",
       "v_decile_score             0.296\n",
       "priors_count               0.275\n",
       "priors_count.1             0.275\n",
       "age                        0.190\n",
       "r_days_from_arrest         0.161\n",
       "race                       0.127\n",
       "juv_misd_count             0.109\n",
       "juv_other_count            0.108\n",
       "juv_fel_count              0.093\n",
       "sex                        0.092\n",
       "start                      0.080\n",
       "c_days_from_compas         0.068\n",
       "days_b_screening_arrest    0.025\n",
       "Name: r, dtype: float64"
      ]
     },
     "execution_count": 189,
     "metadata": {},
     "output_type": "execute_result"
    }
   ],
   "source": [
    "from scipy import stats\n",
    "  \n",
    "#df.two_year_recid\n",
    "\n",
    "corr_df = pd.DataFrame(columns=['r','p'])\n",
    "for col in df:\n",
    "    if pd.api.types.is_numeric_dtype(df[col]):\n",
    "        r,p = stats.pearsonr(df.two_year_recid,df[col])\n",
    "        corr_df.loc[col] = [round(r,3),round(p,3)]\n",
    "        \n",
    "        \n",
    "    \n",
    "\n",
    "cor_value = abs(corr_df.r).sort_values(ascending=False)\n",
    "cor_value.head(20)"
   ]
  },
  {
   "cell_type": "code",
   "execution_count": 186,
   "id": "d1074494",
   "metadata": {},
   "outputs": [
    {
     "data": {
      "text/html": [
       "<div>\n",
       "<style scoped>\n",
       "    .dataframe tbody tr th:only-of-type {\n",
       "        vertical-align: middle;\n",
       "    }\n",
       "\n",
       "    .dataframe tbody tr th {\n",
       "        vertical-align: top;\n",
       "    }\n",
       "\n",
       "    .dataframe thead th {\n",
       "        text-align: right;\n",
       "    }\n",
       "</style>\n",
       "<table border=\"1\" class=\"dataframe\">\n",
       "  <thead>\n",
       "    <tr style=\"text-align: right;\">\n",
       "      <th></th>\n",
       "      <th>id</th>\n",
       "      <th>name</th>\n",
       "      <th>first</th>\n",
       "      <th>last</th>\n",
       "      <th>compas_screening_date</th>\n",
       "      <th>sex</th>\n",
       "      <th>dob</th>\n",
       "      <th>age</th>\n",
       "      <th>age_cat</th>\n",
       "      <th>race</th>\n",
       "      <th>...</th>\n",
       "      <th>v_decile_score</th>\n",
       "      <th>v_score_text</th>\n",
       "      <th>v_screening_date</th>\n",
       "      <th>in_custody</th>\n",
       "      <th>out_custody</th>\n",
       "      <th>priors_count.1</th>\n",
       "      <th>start</th>\n",
       "      <th>end</th>\n",
       "      <th>event</th>\n",
       "      <th>two_year_recid</th>\n",
       "    </tr>\n",
       "  </thead>\n",
       "  <tbody>\n",
       "    <tr>\n",
       "      <th>0</th>\n",
       "      <td>1</td>\n",
       "      <td>miguel hernandez</td>\n",
       "      <td>miguel</td>\n",
       "      <td>hernandez</td>\n",
       "      <td>2013-08-14</td>\n",
       "      <td>1</td>\n",
       "      <td>1947-04-18</td>\n",
       "      <td>69</td>\n",
       "      <td>Greater than 45</td>\n",
       "      <td>6</td>\n",
       "      <td>...</td>\n",
       "      <td>1</td>\n",
       "      <td>Low</td>\n",
       "      <td>2013-08-14</td>\n",
       "      <td>2014-07-07</td>\n",
       "      <td>2014-07-14</td>\n",
       "      <td>0</td>\n",
       "      <td>0</td>\n",
       "      <td>327</td>\n",
       "      <td>0</td>\n",
       "      <td>0</td>\n",
       "    </tr>\n",
       "    <tr>\n",
       "      <th>1</th>\n",
       "      <td>3</td>\n",
       "      <td>kevon dixon</td>\n",
       "      <td>kevon</td>\n",
       "      <td>dixon</td>\n",
       "      <td>2013-01-27</td>\n",
       "      <td>1</td>\n",
       "      <td>1982-01-22</td>\n",
       "      <td>34</td>\n",
       "      <td>25 - 45</td>\n",
       "      <td>0</td>\n",
       "      <td>...</td>\n",
       "      <td>1</td>\n",
       "      <td>Low</td>\n",
       "      <td>2013-01-27</td>\n",
       "      <td>2013-01-26</td>\n",
       "      <td>2013-02-05</td>\n",
       "      <td>0</td>\n",
       "      <td>9</td>\n",
       "      <td>159</td>\n",
       "      <td>1</td>\n",
       "      <td>1</td>\n",
       "    </tr>\n",
       "    <tr>\n",
       "      <th>2</th>\n",
       "      <td>4</td>\n",
       "      <td>ed philo</td>\n",
       "      <td>ed</td>\n",
       "      <td>philo</td>\n",
       "      <td>2013-04-14</td>\n",
       "      <td>1</td>\n",
       "      <td>1991-05-14</td>\n",
       "      <td>24</td>\n",
       "      <td>Less than 25</td>\n",
       "      <td>0</td>\n",
       "      <td>...</td>\n",
       "      <td>3</td>\n",
       "      <td>Low</td>\n",
       "      <td>2013-04-14</td>\n",
       "      <td>2013-06-16</td>\n",
       "      <td>2013-06-16</td>\n",
       "      <td>4</td>\n",
       "      <td>0</td>\n",
       "      <td>63</td>\n",
       "      <td>0</td>\n",
       "      <td>1</td>\n",
       "    </tr>\n",
       "    <tr>\n",
       "      <th>3</th>\n",
       "      <td>5</td>\n",
       "      <td>marcu brown</td>\n",
       "      <td>marcu</td>\n",
       "      <td>brown</td>\n",
       "      <td>2013-01-13</td>\n",
       "      <td>1</td>\n",
       "      <td>1993-01-21</td>\n",
       "      <td>23</td>\n",
       "      <td>Less than 25</td>\n",
       "      <td>0</td>\n",
       "      <td>...</td>\n",
       "      <td>6</td>\n",
       "      <td>Medium</td>\n",
       "      <td>2013-01-13</td>\n",
       "      <td>0</td>\n",
       "      <td>0</td>\n",
       "      <td>1</td>\n",
       "      <td>0</td>\n",
       "      <td>1174</td>\n",
       "      <td>0</td>\n",
       "      <td>0</td>\n",
       "    </tr>\n",
       "    <tr>\n",
       "      <th>4</th>\n",
       "      <td>6</td>\n",
       "      <td>bouthy pierrelouis</td>\n",
       "      <td>bouthy</td>\n",
       "      <td>pierrelouis</td>\n",
       "      <td>2013-03-26</td>\n",
       "      <td>1</td>\n",
       "      <td>1973-01-22</td>\n",
       "      <td>43</td>\n",
       "      <td>25 - 45</td>\n",
       "      <td>6</td>\n",
       "      <td>...</td>\n",
       "      <td>1</td>\n",
       "      <td>Low</td>\n",
       "      <td>2013-03-26</td>\n",
       "      <td>0</td>\n",
       "      <td>0</td>\n",
       "      <td>2</td>\n",
       "      <td>0</td>\n",
       "      <td>1102</td>\n",
       "      <td>0</td>\n",
       "      <td>0</td>\n",
       "    </tr>\n",
       "  </tbody>\n",
       "</table>\n",
       "<p>5 rows × 53 columns</p>\n",
       "</div>"
      ],
      "text/plain": [
       "   id                name   first         last compas_screening_date  sex  \\\n",
       "0   1    miguel hernandez  miguel    hernandez            2013-08-14    1   \n",
       "1   3         kevon dixon   kevon        dixon            2013-01-27    1   \n",
       "2   4            ed philo      ed        philo            2013-04-14    1   \n",
       "3   5         marcu brown   marcu        brown            2013-01-13    1   \n",
       "4   6  bouthy pierrelouis  bouthy  pierrelouis            2013-03-26    1   \n",
       "\n",
       "          dob  age          age_cat  race  ...  v_decile_score  v_score_text  \\\n",
       "0  1947-04-18   69  Greater than 45     6  ...               1           Low   \n",
       "1  1982-01-22   34          25 - 45     0  ...               1           Low   \n",
       "2  1991-05-14   24     Less than 25     0  ...               3           Low   \n",
       "3  1993-01-21   23     Less than 25     0  ...               6        Medium   \n",
       "4  1973-01-22   43          25 - 45     6  ...               1           Low   \n",
       "\n",
       "   v_screening_date  in_custody  out_custody  priors_count.1 start   end  \\\n",
       "0        2013-08-14  2014-07-07   2014-07-14               0     0   327   \n",
       "1        2013-01-27  2013-01-26   2013-02-05               0     9   159   \n",
       "2        2013-04-14  2013-06-16   2013-06-16               4     0    63   \n",
       "3        2013-01-13           0            0               1     0  1174   \n",
       "4        2013-03-26           0            0               2     0  1102   \n",
       "\n",
       "  event two_year_recid  \n",
       "0     0              0  \n",
       "1     1              1  \n",
       "2     0              1  \n",
       "3     0              0  \n",
       "4     0              0  \n",
       "\n",
       "[5 rows x 53 columns]"
      ]
     },
     "execution_count": 186,
     "metadata": {},
     "output_type": "execute_result"
    }
   ],
   "source": [
    "df.head()"
   ]
  },
  {
   "cell_type": "code",
   "execution_count": null,
   "id": "eb608b76",
   "metadata": {},
   "outputs": [],
   "source": []
  }
 ],
 "metadata": {
  "kernelspec": {
   "display_name": "Python 3 (ipykernel)",
   "language": "python",
   "name": "python3"
  },
  "language_info": {
   "codemirror_mode": {
    "name": "ipython",
    "version": 3
   },
   "file_extension": ".py",
   "mimetype": "text/x-python",
   "name": "python",
   "nbconvert_exporter": "python",
   "pygments_lexer": "ipython3",
   "version": "3.9.12"
  }
 },
 "nbformat": 4,
 "nbformat_minor": 5
}
