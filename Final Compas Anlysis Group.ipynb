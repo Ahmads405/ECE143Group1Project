{
 "cells": [
  {
   "cell_type": "code",
   "execution_count": 2,
   "id": "4ecbff0e",
   "metadata": {},
   "outputs": [],
   "source": [
    "import pandas as pd\n",
    "import matplotlib.pyplot as plt\n",
    "import seaborn as sns\n",
    "from scipy import stats\n",
    "from matplotlib import rcParams\n",
    "\n",
    "# figure size in inches\n",
    "rcParams['figure.figsize'] = 25, 10\n",
    "\n",
    "df = pd.read_csv(\"compas-scores-two-years.csv\")"
   ]
  },
  {
   "cell_type": "markdown",
   "id": "f426c683",
   "metadata": {},
   "source": [
    "## Yiyuan"
   ]
  },
  {
   "cell_type": "code",
   "execution_count": 3,
   "id": "a5491d69",
   "metadata": {},
   "outputs": [
    {
     "data": {
      "text/plain": [
       "<seaborn.axisgrid.FacetGrid at 0x1bc702f3670>"
      ]
     },
     "execution_count": 3,
     "metadata": {},
     "output_type": "execute_result"
    },
    {
     "data": {
      "image/png": "[encoded data removed]",
      "text/plain": [
       "<Figure size 432x216 with 2 Axes>"
      ]
     },
     "metadata": {
      "needs_background": "light"
     },
     "output_type": "display_data"
    }
   ],
   "source": [
    "RACE_IN_FOCUS = ['African-American', 'Caucasian']\n",
    "df_race_focused = df[df['race'].isin(RACE_IN_FOCUS)]\n",
    "g = sns.FacetGrid(df_race_focused, col='race')\n",
    "g.map(plt.hist, 'decile_score', rwidth=0.9,density = True)"
   ]
  },
  {
   "cell_type": "code",
   "execution_count": 4,
   "id": "010d480f",
   "metadata": {},
   "outputs": [
    {
     "data": {
      "text/html": [
       "<div>\n",
       "<style scoped>\n",
       "    .dataframe tbody tr th:only-of-type {\n",
       "        vertical-align: middle;\n",
       "    }\n",
       "\n",
       "    .dataframe tbody tr th {\n",
       "        vertical-align: top;\n",
       "    }\n",
       "\n",
       "    .dataframe thead th {\n",
       "        text-align: right;\n",
       "    }\n",
       "</style>\n",
       "<table border=\"1\" class=\"dataframe\">\n",
       "  <thead>\n",
       "    <tr style=\"text-align: right;\">\n",
       "      <th>race</th>\n",
       "      <th>African-American</th>\n",
       "      <th>Caucasian</th>\n",
       "    </tr>\n",
       "    <tr>\n",
       "      <th>decile_score</th>\n",
       "      <th></th>\n",
       "      <th></th>\n",
       "    </tr>\n",
       "  </thead>\n",
       "  <tbody>\n",
       "    <tr>\n",
       "      <th>1</th>\n",
       "      <td>0.107684</td>\n",
       "      <td>0.277506</td>\n",
       "    </tr>\n",
       "    <tr>\n",
       "      <th>2</th>\n",
       "      <td>0.106331</td>\n",
       "      <td>0.147107</td>\n",
       "    </tr>\n",
       "    <tr>\n",
       "      <th>3</th>\n",
       "      <td>0.093615</td>\n",
       "      <td>0.111247</td>\n",
       "    </tr>\n",
       "    <tr>\n",
       "      <th>4</th>\n",
       "      <td>0.104167</td>\n",
       "      <td>0.116137</td>\n",
       "    </tr>\n",
       "    <tr>\n",
       "      <th>5</th>\n",
       "      <td>0.098755</td>\n",
       "      <td>0.098207</td>\n",
       "    </tr>\n",
       "    <tr>\n",
       "      <th>6</th>\n",
       "      <td>0.103896</td>\n",
       "      <td>0.079055</td>\n",
       "    </tr>\n",
       "    <tr>\n",
       "      <th>7</th>\n",
       "      <td>0.108225</td>\n",
       "      <td>0.058272</td>\n",
       "    </tr>\n",
       "    <tr>\n",
       "      <th>8</th>\n",
       "      <td>0.097132</td>\n",
       "      <td>0.046455</td>\n",
       "    </tr>\n",
       "    <tr>\n",
       "      <th>9</th>\n",
       "      <td>0.102814</td>\n",
       "      <td>0.039935</td>\n",
       "    </tr>\n",
       "    <tr>\n",
       "      <th>10</th>\n",
       "      <td>0.077381</td>\n",
       "      <td>0.026080</td>\n",
       "    </tr>\n",
       "  </tbody>\n",
       "</table>\n",
       "</div>"
      ],
      "text/plain": [
       "race          African-American  Caucasian\n",
       "decile_score                             \n",
       "1                     0.107684   0.277506\n",
       "2                     0.106331   0.147107\n",
       "3                     0.093615   0.111247\n",
       "4                     0.104167   0.116137\n",
       "5                     0.098755   0.098207\n",
       "6                     0.103896   0.079055\n",
       "7                     0.108225   0.058272\n",
       "8                     0.097132   0.046455\n",
       "9                     0.102814   0.039935\n",
       "10                    0.077381   0.026080"
      ]
     },
     "execution_count": 4,
     "metadata": {},
     "output_type": "execute_result"
    }
   ],
   "source": [
    "pd.crosstab(df_race_focused['decile_score'], df['race'], normalize = 'columns')"
   ]
  },
  {
   "cell_type": "code",
   "execution_count": 5,
   "id": "6625846c",
   "metadata": {},
   "outputs": [
    {
     "data": {
      "text/plain": [
       "<seaborn.axisgrid.FacetGrid at 0x1bc762b7a60>"
      ]
     },
     "execution_count": 5,
     "metadata": {},
     "output_type": "execute_result"
    },
    {
     "data": {
      "image/png": "[encoded data removed]",
      "text/plain": [
       "<Figure size 432x216 with 2 Axes>"
      ]
     },
     "metadata": {
      "needs_background": "light"
     },
     "output_type": "display_data"
    }
   ],
   "source": [
    "recid_df = df.loc[df['two_year_recid']==1]\n",
    "recid_df_race_focused = recid_df[recid_df['race'].isin(RACE_IN_FOCUS)]\n",
    "g = sns.FacetGrid(recid_df_race_focused, col='race')\n",
    "g.map(plt.hist, 'decile_score', rwidth=0.9, density = True)"
   ]
  },
  {
   "cell_type": "code",
   "execution_count": 6,
   "id": "c21861d6",
   "metadata": {},
   "outputs": [
    {
     "data": {
      "text/plain": [
       "<seaborn.axisgrid.FacetGrid at 0x1bc767b0070>"
      ]
     },
     "execution_count": 6,
     "metadata": {},
     "output_type": "execute_result"
    },
    {
     "data": {
      "image/png": "[encoded data removed]",
      "text/plain": [
       "<Figure size 432x216 with 2 Axes>"
      ]
     },
     "metadata": {
      "needs_background": "light"
     },
     "output_type": "display_data"
    }
   ],
   "source": [
    "high_decile_recide = recid_df.loc[recid_df['decile_score'] > 6]\n",
    "focused_high_decile = high_decile_recide[high_decile_recide['race'].isin(RACE_IN_FOCUS)]\n",
    "g = sns.FacetGrid(focused_high_decile, col='race')\n",
    "g.map(plt.hist, 'decile_score', rwidth=0.9,density = True)"
   ]
  },
  {
   "cell_type": "code",
   "execution_count": 7,
   "id": "26641910",
   "metadata": {},
   "outputs": [
    {
     "name": "stderr",
     "output_type": "stream",
     "text": [
      "C:\\Users\\18589\\anaconda3\\lib\\site-packages\\scipy\\stats\\stats.py:4023: PearsonRConstantInputWarning: An input array is constant; the correlation coefficient is not defined.\n",
      "  warnings.warn(PearsonRConstantInputWarning())\n"
     ]
    },
    {
     "data": {
      "text/plain": [
       "two_year_recid             1.000\n",
       "is_recid                   0.941\n",
       "event                      0.786\n",
       "end                        0.771\n",
       "is_violent_recid           0.356\n",
       "decile_score               0.351\n",
       "decile_score.1             0.351\n",
       "v_decile_score             0.296\n",
       "priors_count               0.275\n",
       "priors_count.1             0.275\n",
       "age                        0.190\n",
       "r_days_from_arrest         0.161\n",
       "race                       0.127\n",
       "juv_misd_count             0.109\n",
       "juv_other_count            0.108\n",
       "juv_fel_count              0.093\n",
       "sex                        0.092\n",
       "start                      0.080\n",
       "c_days_from_compas         0.068\n",
       "days_b_screening_arrest    0.025\n",
       "Name: r, dtype: float64"
      ]
     },
     "execution_count": 7,
     "metadata": {},
     "output_type": "execute_result"
    }
   ],
   "source": [
    "df = df.fillna(0)\n",
    "df = df.replace({'race' : { 'African-American' : 0, 'Asian' : 1, 'Caucasian' : 3 ,'Hispanic':4,'Native American':5,'Other':6}})\n",
    "df = df.replace({'sex' : { 'Male' : 1, 'Female' : 0}})\n",
    "\n",
    "corr_df = pd.DataFrame(columns=['r','p'])\n",
    "for col in df:\n",
    "    if pd.api.types.is_numeric_dtype(df[col]):\n",
    "        r,p = stats.pearsonr(df.two_year_recid,df[col])\n",
    "        corr_df.loc[col] = [round(r,3),round(p,3)]\n",
    "\n",
    "cor_value = abs(corr_df.r).sort_values(ascending=False)\n",
    "cor_value.head(20)"
   ]
  },
  {
   "cell_type": "code",
   "execution_count": 8,
   "id": "837bebcc",
   "metadata": {},
   "outputs": [
    {
     "data": {
      "text/plain": [
       "<seaborn.axisgrid.FacetGrid at 0x1bc778a2d60>"
      ]
     },
     "execution_count": 8,
     "metadata": {},
     "output_type": "execute_result"
    },
    {
     "data": {
      "image/png": "[encoded data removed]",
      "text/plain": [
       "<Figure size 648x216 with 3 Axes>"
      ]
     },
     "metadata": {
      "needs_background": "light"
     },
     "output_type": "display_data"
    }
   ],
   "source": [
    "g = sns.FacetGrid(df_race_focused, col='age_cat')\n",
    "g.map(plt.hist, 'decile_score', rwidth=0.9)"
   ]
  },
  {
   "cell_type": "code",
   "execution_count": 9,
   "id": "cca162f2",
   "metadata": {},
   "outputs": [
    {
     "data": {
      "text/plain": [
       "<seaborn.axisgrid.FacetGrid at 0x1bc767c9b80>"
      ]
     },
     "execution_count": 9,
     "metadata": {},
     "output_type": "execute_result"
    },
    {
     "data": {
      "image/png": "[encoded data removed]",
      "text/plain": [
       "<Figure size 432x216 with 2 Axes>"
      ]
     },
     "metadata": {
      "needs_background": "light"
     },
     "output_type": "display_data"
    }
   ],
   "source": [
    "import numpy as np\n",
    "df_race_focused[\"priors_count\"] = np.where(df_race_focused[\"priors_count\"] <= 5, 0, 1)\n",
    "g = sns.FacetGrid(df_race_focused, col='priors_count')\n",
    "g.map(plt.hist, 'decile_score', rwidth=0.9,density = True)"
   ]
  },
  {
   "cell_type": "code",
   "execution_count": null,
   "id": "0e370701",
   "metadata": {},
   "outputs": [],
   "source": []
  }
 ],
 "metadata": {
  "kernelspec": {
   "display_name": "Python 3 (ipykernel)",
   "language": "python",
   "name": "python3"
  },
  "language_info": {
   "codemirror_mode": {
    "name": "ipython",
    "version": 3
   },
   "file_extension": ".py",
   "mimetype": "text/x-python",
   "name": "python",
   "nbconvert_exporter": "python",
   "pygments_lexer": "ipython3",
   "version": "3.9.12"
  }
 },
 "nbformat": 4,
 "nbformat_minor": 5
}
